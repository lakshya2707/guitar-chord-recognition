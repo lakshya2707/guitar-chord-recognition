{
 "cells": [
  {
   "cell_type": "code",
   "execution_count": 1,
   "id": "d06e247d",
   "metadata": {},
   "outputs": [],
   "source": [
    "%run PCprofile.ipynb"
   ]
  },
  {
   "cell_type": "code",
   "execution_count": 2,
   "id": "2cbba1e4",
   "metadata": {},
   "outputs": [],
   "source": [
    "from joblib import load\n",
    "import os\n",
    "import re\n",
    "import json\n",
    "# Load the SVM model\n",
    "svm_model = load('svm_model.joblib')\n",
    "\n",
    "# Define the function to load the audio file and convert it into pitch\n",
    "def process_audio(file_path):\n",
    "    ptc = PitchClassProfiler(file_path)\n",
    "    pitch_profile = ptc.get_profile()\n",
    "    return pitch_profile\n",
    "\n",
    "# Path to the folder containing the segmented audio files\n",
    "segment_folder = \"output_segments\"\n",
    "output_json = \"output_results.json\"\n",
    "data = {\"files\": [], \"predictions\": []}\n",
    "\n",
    "# Custom sorting function to sort filenames based on numeric part\n",
    "def sort_key(filename):\n",
    "    return [int(s) if s.isdigit() else s for s in re.split(r'(\\d+)', filename)]\n",
    "\n",
    "# Iterate through each .wav file in the folder\n",
    "for filename in sorted(os.listdir(segment_folder), key=sort_key):  # Sort the filenames\n",
    "    if filename.endswith(\".wav\"):\n",
    "        file_path = os.path.join(segment_folder, filename)\n",
    "        # Convert the audio into pitch\n",
    "        pitch_profile = process_audio(file_path)\n",
    "        data[\"files\"].append(filename)\n",
    "        # Convert the prediction to int for JSON serialization\n",
    "        prediction = int(svm_model.predict([pitch_profile])[0])\n",
    "        data[\"predictions\"].append(prediction)\n",
    "\n",
    "# Save the output as a JSON file\n",
    "with open(output_json, \"w\") as f:\n",
    "    json.dump(data, f)\n"
   ]
  },
  {
   "cell_type": "code",
   "execution_count": null,
   "id": "7d2dbcce",
   "metadata": {},
   "outputs": [],
   "source": [
    "#mapping=[\"a\",\"am\",\"bm\",\"c\",\"d\",\"dm\",\"e\",\"em\",\"f\",\"g\"]"
   ]
  },
  {
   "cell_type": "code",
   "execution_count": null,
   "id": "3a7e3311",
   "metadata": {},
   "outputs": [],
   "source": []
  }
 ],
 "metadata": {
  "kernelspec": {
   "display_name": "Python 3 (ipykernel)",
   "language": "python",
   "name": "python3"
  },
  "language_info": {
   "codemirror_mode": {
    "name": "ipython",
    "version": 3
   },
   "file_extension": ".py",
   "mimetype": "text/x-python",
   "name": "python",
   "nbconvert_exporter": "python",
   "pygments_lexer": "ipython3",
   "version": "3.11.5"
  }
 },
 "nbformat": 4,
 "nbformat_minor": 5
}
