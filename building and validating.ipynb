{
 "cells": [
  {
   "cell_type": "code",
   "execution_count": 1,
   "id": "273eb770",
   "metadata": {},
   "outputs": [],
   "source": [
    "import json\n",
    "import numpy as np\n",
    "from sklearn.model_selection import train_test_split\n",
    "from sklearn import metrics\n",
    "from sklearn.neighbors import KNeighborsClassifier\n",
    "from sklearn.svm import SVC\n",
    "from sklearn.ensemble import AdaBoostClassifier\n",
    "from sklearn.tree import DecisionTreeClassifier"
   ]
  },
  {
   "cell_type": "code",
   "execution_count": 2,
   "id": "541906ca",
   "metadata": {},
   "outputs": [],
   "source": [
    "DATA_PATH = \"my_data2.json\""
   ]
  },
  {
   "cell_type": "code",
   "execution_count": 3,
   "id": "3ddba4c8",
   "metadata": {},
   "outputs": [
    {
     "name": "stdout",
     "output_type": "stream",
     "text": [
      "0\n",
      "1\n",
      "2\n",
      "3\n",
      "4\n",
      "5\n",
      "6\n",
      "7\n",
      "8\n",
      "9\n",
      "\n",
      "knn average accuracy :  0.9615\n",
      "SVM average accuracy:  0.9664999999999999\n",
      "Decision Tree average accuracy:  0.95425\n",
      "Adaboost average accuracy:  0.489\n"
     ]
    }
   ],
   "source": [
    "def load_data(data_path):\n",
    "    \"\"\"Loads training dataset from json file.\n",
    "        :param data_path (str): Path to json file containing data\n",
    "        :return X (ndarray): Inputs\n",
    "        :return y (ndarray): Targets\n",
    "    \"\"\"\n",
    "\n",
    "    with open(data_path, \"r\") as fp:\n",
    "        data = json.load(fp)\n",
    "\n",
    "    X = np.array(data[\"pitch\"])\n",
    "    y = np.array(data[\"labels\"])\n",
    "    return X, y\n",
    "# get train, validation, test splits\n",
    "X, y = load_data(DATA_PATH)\n",
    "rounds =10\n",
    "knn_accu=0\n",
    "dt_accu=0\n",
    "ada_accu=0\n",
    "svm_accu=0\n",
    "\n",
    "for i in range(rounds):\n",
    "\n",
    "    X_train, X_test, y_train, y_test = train_test_split(X, y, test_size=0.20)\n",
    "\n",
    "    #Create Classifiers:\n",
    "    knn = KNeighborsClassifier(n_neighbors=3)\n",
    "    svclassifier = SVC(kernel='rbf')\n",
    "    clf = DecisionTreeClassifier()\n",
    "    abc = AdaBoostClassifier(n_estimators=200,\n",
    "                            learning_rate=2)\n",
    "\n",
    "\n",
    "    #Train the model using the training sets\n",
    "    knn.fit(X_train, y_train)\n",
    "    svclassifier.fit(X_train, y_train)\n",
    "    clf = clf.fit(X_train,y_train)\n",
    "    model = abc.fit(X_train, y_train)\n",
    "\n",
    "    #Predict the response for test dataset\n",
    "    y_pred_knn = knn.predict(X_test)\n",
    "    y_pred_svm = svclassifier.predict(X_test)\n",
    "    y_pred_dt = clf.predict(X_test)\n",
    "    y_pred_ada = model.predict(X_test)\n",
    "\n",
    "    knn_accu+=metrics.accuracy_score(y_test, y_pred_knn)\n",
    "    svm_accu+=metrics.accuracy_score(y_test, y_pred_svm)\n",
    "    ada_accu+=metrics.accuracy_score(y_test, y_pred_ada)\n",
    "    dt_accu+=metrics.accuracy_score(y_test, y_pred_dt)\n",
    "    print(i)\n",
    "\n",
    "\n",
    "print()\n",
    "print(\"knn average accuracy : \" , knn_accu/rounds)\n",
    "print(\"SVM average accuracy: \" , svm_accu/rounds)\n",
    "print(\"Decision Tree average accuracy: \" , dt_accu/rounds)\n",
    "print(\"Adaboost average accuracy: \" , ada_accu/rounds)"
   ]
  },
  {
   "cell_type": "code",
   "execution_count": null,
   "id": "363d7544",
   "metadata": {},
   "outputs": [],
   "source": []
  }
 ],
 "metadata": {
  "kernelspec": {
   "display_name": "Python 3 (ipykernel)",
   "language": "python",
   "name": "python3"
  },
  "language_info": {
   "codemirror_mode": {
    "name": "ipython",
    "version": 3
   },
   "file_extension": ".py",
   "mimetype": "text/x-python",
   "name": "python",
   "nbconvert_exporter": "python",
   "pygments_lexer": "ipython3",
   "version": "3.11.5"
  }
 },
 "nbformat": 4,
 "nbformat_minor": 5
}
