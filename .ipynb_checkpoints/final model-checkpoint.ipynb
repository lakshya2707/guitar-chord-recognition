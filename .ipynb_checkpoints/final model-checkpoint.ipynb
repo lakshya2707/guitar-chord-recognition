{
 "cells": [
  {
   "cell_type": "code",
   "execution_count": 1,
   "id": "c9f41018",
   "metadata": {},
   "outputs": [],
   "source": [
    "import json\n",
    "import numpy as np\n",
    "from sklearn import metrics\n",
    "from sklearn.svm import SVC\n",
    "\n",
    "\n",
    "DATA_PATH = \"my_data2.json\"\n",
    "\n",
    "\n",
    "def load_data(data_path):\n",
    "    \"\"\"Loads training dataset from json file.\n",
    "        :param data_path (str): Path to json file containing data\n",
    "        :return X (ndarray): Inputs\n",
    "        :return y (ndarray): Targets\n",
    "    \"\"\"\n",
    "\n",
    "    with open(data_path, \"r\") as fp:\n",
    "        data = json.load(fp)\n",
    "\n",
    "    X = np.array(data[\"pitch\"])\n",
    "    y = np.array(data[\"labels\"])\n",
    "    return X, y\n",
    "# get train, validation, test splits\n",
    "X, y = load_data(DATA_PATH)\n",
    "\n",
    "#Create a SVM Classifier\n",
    "svclassifier_rbf = SVC(kernel='rbf')\n",
    "\n",
    "#Train the model using the training sets\n",
    "svclassifier_rbf.fit(X, y)\n",
    "\n",
    "#Predict the response for dataset\n",
    "y_pred_rbf = svclassifier_rbf.predict(X)"
   ]
  },
  {
   "cell_type": "code",
   "execution_count": 2,
   "id": "8d3572f7",
   "metadata": {},
   "outputs": [
    {
     "name": "stdout",
     "output_type": "stream",
     "text": [
      "error in: 133  data:  0 pred:  1\n",
      "error in: 209  data:  1 pred:  0\n",
      "error in: 220  data:  1 pred:  0\n",
      "error in: 228  data:  1 pred:  0\n",
      "error in: 247  data:  1 pred:  0\n",
      "error in: 391  data:  1 pred:  6\n",
      "error in: 874  data:  4 pred:  5\n",
      "error in: 883  data:  4 pred:  5\n",
      "error in: 884  data:  4 pred:  5\n",
      "error in: 903  data:  4 pred:  5\n",
      "error in: 909  data:  4 pred:  5\n",
      "error in: 910  data:  4 pred:  0\n",
      "error in: 975  data:  4 pred:  5\n",
      "error in: 981  data:  4 pred:  5\n",
      "error in: 983  data:  4 pred:  5\n",
      "error in: 995  data:  4 pred:  5\n",
      "error in: 1009  data:  5 pred:  4\n",
      "error in: 1020  data:  5 pred:  4\n",
      "error in: 1024  data:  5 pred:  4\n",
      "error in: 1029  data:  5 pred:  4\n",
      "error in: 1031  data:  5 pred:  4\n",
      "error in: 1049  data:  5 pred:  4\n",
      "error in: 1053  data:  5 pred:  4\n",
      "error in: 1056  data:  5 pred:  4\n",
      "error in: 1059  data:  5 pred:  4\n",
      "error in: 1072  data:  5 pred:  4\n",
      "error in: 1073  data:  5 pred:  4\n",
      "error in: 1074  data:  5 pred:  4\n",
      "error in: 1086  data:  5 pred:  4\n",
      "error in: 1093  data:  5 pred:  4\n",
      "error in: 1100  data:  5 pred:  4\n",
      "error in: 1110  data:  5 pred:  4\n",
      "error in: 1138  data:  5 pred:  4\n",
      "error in: 1139  data:  5 pred:  4\n",
      "error in: 1151  data:  5 pred:  4\n",
      "error in: 1152  data:  5 pred:  4\n",
      "error in: 1166  data:  5 pred:  4\n",
      "error in: 1170  data:  5 pred:  4\n",
      "error in: 1176  data:  5 pred:  4\n",
      "error in: 1184  data:  5 pred:  4\n",
      "error in: 1267  data:  6 pred:  7\n",
      "error in: 1447  data:  7 pred:  6\n",
      "error in: 1453  data:  7 pred:  6\n",
      "error in: 1637  data:  8 pred:  1\n",
      "error in: 1647  data:  8 pred:  1\n",
      "error in: 1940  data:  9 pred:  7\n",
      "~~~Errors Comparison: ~~~\n",
      "Type of SVM: radial basis function , number of errors:  46 accuracy:  0.977\n"
     ]
    }
   ],
   "source": [
    "err_count_rbf=0\n",
    "for i in range(len(y)):\n",
    "    if y[i]!=y_pred_rbf[i]:\n",
    "        err_count_rbf+=1\n",
    "        print(\"error in:\",i,\" data: \",y[i], \"pred: \", y_pred_rbf[i])\n",
    "\n",
    "print(\"~~~Errors Comparison: ~~~\")\n",
    "print(\"Type of SVM: radial basis function , number of errors: \", err_count_rbf, \"accuracy: \", metrics.accuracy_score(y, y_pred_rbf))"
   ]
  },
  {
   "cell_type": "code",
   "execution_count": 3,
   "id": "b6473c75",
   "metadata": {},
   "outputs": [
    {
     "data": {
      "text/plain": [
       "['svm_model.joblib']"
      ]
     },
     "execution_count": 3,
     "metadata": {},
     "output_type": "execute_result"
    }
   ],
   "source": [
    "from joblib import dump\n",
    "dump(svclassifier_rbf, 'svm_model.joblib')"
   ]
  },
  {
   "cell_type": "code",
   "execution_count": null,
   "id": "5f4254d2",
   "metadata": {},
   "outputs": [],
   "source": []
  }
 ],
 "metadata": {
  "kernelspec": {
   "display_name": "Python 3 (ipykernel)",
   "language": "python",
   "name": "python3"
  },
  "language_info": {
   "codemirror_mode": {
    "name": "ipython",
    "version": 3
   },
   "file_extension": ".py",
   "mimetype": "text/x-python",
   "name": "python",
   "nbconvert_exporter": "python",
   "pygments_lexer": "ipython3",
   "version": "3.11.5"
  }
 },
 "nbformat": 4,
 "nbformat_minor": 5
}
