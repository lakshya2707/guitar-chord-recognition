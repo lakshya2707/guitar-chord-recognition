{
 "cells": [
  {
   "cell_type": "markdown",
   "id": "cb05a59e",
   "metadata": {},
   "source": [
    "NOTE THAT WHILE CREATING THE TRAINING DATA I CHANGED \"output_path = f\"{output_folder}/segment_{i + 1}.wav\"\" to \"output_path = f\"{output_folder}/chord_name{i + 1}.wav\"\". FOR EXAMPLE-----------------\n",
    "output_path = f\"{output_folder}/a{i + 1}.wav\"\n",
    "AND CHANGED THE OUTPUT FOLDER TO CHORD NAME."
   ]
  },
  {
   "cell_type": "code",
   "execution_count": 3,
   "id": "835f318e",
   "metadata": {},
   "outputs": [],
   "source": [
    "import soundfile as sf\n",
    "import librosa\n",
    "import numpy as np\n",
    "\n",
    "def load_audio(file_path, sr=96000):\n",
    "    \"\"\"\n",
    "    Load audio file using librosa library.\n",
    "    \n",
    "    Parameters:\n",
    "        file_path (str): Path to the audio file.\n",
    "        sr (int): Sampling rate.\n",
    "        \n",
    "    Returns:\n",
    "        audio (np.ndarray): Loaded audio signal.\n",
    "        sr (int): Sampling rate of the audio signal.\n",
    "    \"\"\"\n",
    "    audio, sr = librosa.load(file_path, sr=sr)\n",
    "    return audio, sr\n",
    "\n",
    "def split_audio(audio, segment_length, overlap):\n",
    "    \"\"\"\n",
    "    Split audio into smaller segments with overlap.\n",
    "    \n",
    "    Parameters:\n",
    "        audio (np.ndarray): Input audio signal.\n",
    "        segment_length (int): Length of each segment in samples.\n",
    "        overlap (float): Overlap ratio between segments (0 to 1).\n",
    "        \n",
    "    Returns:\n",
    "        segments (List[np.ndarray]): List of audio segments.\n",
    "    \"\"\"\n",
    "    segment_stride = int(segment_length * (1 - overlap))\n",
    "    num_segments = (len(audio) - segment_length) // segment_stride + 1\n",
    "    segments = [audio[i * segment_stride:i * segment_stride + segment_length] for i in range(num_segments)]\n",
    "    return segments\n",
    "\n",
    "def save_segments(segments, output_folder, sr):\n",
    "    \"\"\"\n",
    "    Save audio segments as separate files.\n",
    "    \n",
    "    Parameters:\n",
    "        segments (List[np.ndarray]): List of audio segments.\n",
    "        output_folder (str): Folder to save the output files.\n",
    "        sr (int): Sampling rate.\n",
    "    \"\"\"\n",
    "    for i, segment in enumerate(segments):\n",
    "        output_path = f\"{output_folder}/segment_{i + 1}.wav\"\n",
    "        sf.write(output_path, segment, sr)"
   ]
  },
  {
   "cell_type": "code",
   "execution_count": 4,
   "id": "8b16bc21",
   "metadata": {},
   "outputs": [],
   "source": [
    "# Example usage:\n",
    "file_path = \"voice 050.wav\"\n",
    "output_folder = \"output_segments\"\n",
    "fs=96000\n",
    "seconds=0.5\n",
    "segment_length = int(fs * seconds) \n",
    "overlap = 0.2\n",
    "recorded_audio, sr = load_audio(file_path)\n",
    "audio_segments = split_audio(recorded_audio, segment_length, overlap)\n",
    "save_segments(audio_segments, output_folder, sr)"
   ]
  },
  {
   "cell_type": "code",
   "execution_count": null,
   "id": "5afaded5",
   "metadata": {},
   "outputs": [],
   "source": []
  }
 ],
 "metadata": {
  "kernelspec": {
   "display_name": "Python 3 (ipykernel)",
   "language": "python",
   "name": "python3"
  },
  "language_info": {
   "codemirror_mode": {
    "name": "ipython",
    "version": 3
   },
   "file_extension": ".py",
   "mimetype": "text/x-python",
   "name": "python",
   "nbconvert_exporter": "python",
   "pygments_lexer": "ipython3",
   "version": "3.11.5"
  }
 },
 "nbformat": 4,
 "nbformat_minor": 5
}
