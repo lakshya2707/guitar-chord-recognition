{
 "cells": [
  {
   "cell_type": "code",
   "execution_count": 1,
   "id": "01284101",
   "metadata": {},
   "outputs": [],
   "source": [
    "import matplotlib.pyplot as plt\n",
    "import numpy as np\n",
    "from scipy.io import wavfile\n",
    "from scipy.fftpack import fft\n",
    "from math import log2"
   ]
  },
  {
   "cell_type": "code",
   "execution_count": 2,
   "id": "4f2792bb",
   "metadata": {},
   "outputs": [],
   "source": [
    "class PitchClassProfiler():\n",
    "    def __init__(self, file_name):\n",
    "        self.file_name = file_name\n",
    "        self.read = False\n",
    "\n",
    "    def _read_file(self):\n",
    "        self._frecuency, self._samples = wavfile.read(self.file_name)\n",
    "        self.read = True\n",
    "\n",
    "    def frecuency(self):\n",
    "        if not self.read:\n",
    "            self._read_file()\n",
    "        return self._frecuency\n",
    "\n",
    "    def samples(self):\n",
    "        if not self.read:\n",
    "            self._read_file()\n",
    "        return self._samples\n",
    "\n",
    "    def fourier(self):\n",
    "        return fft(self.samples())\n",
    "\n",
    "    def plot_signal(self):\n",
    "        plt.plot(self.samples())\n",
    "        plt.show()\n",
    "\n",
    "    def plot_fourier(self):\n",
    "        plt.plot(self.fourier())\n",
    "        plt.show()\n",
    "\n",
    "    def pcp(self, X):\n",
    "        #The algorithm here is implemented using\n",
    "        #the names of the math formula as shown in the paper\n",
    "        fs = self.frecuency()\n",
    "        #fref = [130.81, 138.59, 146.83, 155.56, 164.81, 174.61, 185.00, 196.00, 207.65, 220.00, 233.08, 246.94]\n",
    "        fref = 130.81\n",
    "\n",
    "        N = len(X)\n",
    "        #assert(N % 2 == 0)\n",
    "\n",
    "        def M(l, p):\n",
    "            if l == 0:\n",
    "                return -1\n",
    "            return round(12 * log2( (fs * l)/(N * fref )  ) ) % 12\n",
    "\n",
    "        pcp = [0 for p in range(12)]\n",
    "        \n",
    "        #print(\"Computing pcp...\")\n",
    "        for p in range(12):\n",
    "            for l in range(N//2):\n",
    "                if p == M(l, p):\n",
    "                    pcp[p] += abs(X[l])**2\n",
    "        \n",
    "        #Normalize pcp\n",
    "        pcp_norm = [0 for p in range(12)]\n",
    "        for p in range(12):\n",
    "            pcp_norm[p] = (pcp[p] / sum(pcp))\n",
    "        return list(pcp_norm)\n",
    "\n",
    "    def get_profile(self):\n",
    "        X = self.fourier()\n",
    "        return self.pcp(X)\n",
    "        \n",
    "    def plot_profile(self):\n",
    "        objects = ('C', 'C#', 'D', 'D#', 'E', 'F', 'F#', 'G', 'G#', 'A', 'A#', 'B')\n",
    "        y_pos = np.arange(len(objects))\n",
    "        performance = self.get_profile()\n",
    "        \n",
    "        plt.bar(y_pos, performance, align='center', alpha=0.5)\n",
    "        plt.xticks(y_pos, objects)\n",
    "        plt.ylabel('Energy')\n",
    "        plt.title('PCP results')\n",
    "        \n",
    "        plt.show()"
   ]
  },
  {
   "cell_type": "code",
   "execution_count": 5,
   "id": "06de86e9",
   "metadata": {},
   "outputs": [
    {
     "data": {
      "text/plain": [
       "'file_path=\"chords\\\\a\\\\a1.wav\"\\nobj = PitchClassProfiler(file_path)\\nobj.plot_profile()'"
      ]
     },
     "execution_count": 5,
     "metadata": {},
     "output_type": "execute_result"
    }
   ],
   "source": [
    "\"\"\"file_path=\"chords\\\\a\\\\a1.wav\"\n",
    "obj = PitchClassProfiler(file_path)\n",
    "obj.plot_profile()\"\"\""
   ]
  },
  {
   "cell_type": "code",
   "execution_count": null,
   "id": "39642e15",
   "metadata": {},
   "outputs": [],
   "source": []
  }
 ],
 "metadata": {
  "kernelspec": {
   "display_name": "Python 3 (ipykernel)",
   "language": "python",
   "name": "python3"
  },
  "language_info": {
   "codemirror_mode": {
    "name": "ipython",
    "version": 3
   },
   "file_extension": ".py",
   "mimetype": "text/x-python",
   "name": "python",
   "nbconvert_exporter": "python",
   "pygments_lexer": "ipython3",
   "version": "3.11.5"
  }
 },
 "nbformat": 4,
 "nbformat_minor": 5
}
